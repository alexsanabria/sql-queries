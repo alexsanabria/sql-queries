{
 "cells": [
  {
   "cell_type": "code",
   "execution_count": 53,
   "id": "welcome-opposition",
   "metadata": {},
   "outputs": [],
   "source": [
    "import mysql.connector\n",
    "from mysql.connector import Error\n",
    "import datetime\n",
    "import time\n",
    "import pandas as pd"
   ]
  },
  {
   "cell_type": "markdown",
   "id": "together-glossary",
   "metadata": {},
   "source": [
    "### Crear la funcion para conectar a la db"
   ]
  },
  {
   "cell_type": "code",
   "execution_count": 79,
   "id": "hungry-master",
   "metadata": {},
   "outputs": [],
   "source": [
    "def crear_conexion(host, user, password, db):\n",
    "    conexion=None #Inicializar la conexion como valor vacio\n",
    "    try:          # Intentar realizar la conexión con los datos de autenticacion suministrados po el usuuario\n",
    "        conexion = mysql.connector.connect(\n",
    "            host=host,\n",
    "            user=user,\n",
    "            passwd=password,\n",
    "            database=db)\n",
    "        print('Conexión satisfactoria')\n",
    "    except Error as e: \n",
    "        print(\"Error en la conexion\")\n",
    "    return conexion\n",
    "\n"
   ]
  },
  {
   "cell_type": "markdown",
   "id": "supposed-criterion",
   "metadata": {},
   "source": [
    "### Enviar los parámetros de conexión a la función"
   ]
  },
  {
   "cell_type": "code",
   "execution_count": 80,
   "id": "greek-behalf",
   "metadata": {},
   "outputs": [
    {
     "name": "stdout",
     "output_type": "stream",
     "text": [
      "Conexión satisfactoria\n"
     ]
    }
   ],
   "source": [
    "conexion=crear_conexion('localhost', 'user', 'password', 'sakila')"
   ]
  },
  {
   "cell_type": "markdown",
   "id": "decent-virtue",
   "metadata": {},
   "source": [
    "#### Crear la función para realizar consultas a la base de datos"
   ]
  },
  {
   "cell_type": "code",
   "execution_count": 15,
   "id": "cathedral-validity",
   "metadata": {},
   "outputs": [],
   "source": [
    "def consulta_registros(conexion, query): #Recibe el nombre de la conexón y la consulta (SQL) que se requiere hacer\n",
    "    cursor=conexion.cursor(dictionary=True)# Crear un cursor que devuelve un diccionario con el resultado de la consulta\n",
    "    result=None\n",
    "    try:\n",
    "        cursor.execute(query)\n",
    "        result=cursor.fetchall()\n",
    "        return result\n",
    "    except Eror as e:\n",
    "        print(\"Se ha presentado un error\")\n",
    "        "
   ]
  },
  {
   "cell_type": "code",
   "execution_count": null,
   "id": "alone-closing",
   "metadata": {},
   "outputs": [],
   "source": [
    "### Enviar los parametros de la consulta a la funcion (nombre_conexion, consulta_SQL)"
   ]
  },
  {
   "cell_type": "code",
   "execution_count": 16,
   "id": "green-calcium",
   "metadata": {},
   "outputs": [],
   "source": [
    "if(conexion != None):\n",
    "    resultado = consulta_registros(conexion,\"SELECT * FROM actor\")\n",
    "    resultado"
   ]
  },
  {
   "cell_type": "code",
   "execution_count": 17,
   "id": "systematic-pollution",
   "metadata": {},
   "outputs": [
    {
     "name": "stdout",
     "output_type": "stream",
     "text": [
      "[{'actor_id': 1, 'first_name': 'PENELOPE', 'last_name': 'GUINESS', 'last_update': datetime.datetime(2006, 2, 15, 4, 34, 33)}, {'actor_id': 2, 'first_name': 'NICK', 'last_name': 'WAHLBERG', 'last_update': datetime.datetime(2006, 2, 15, 4, 34, 33)}, {'actor_id': 3, 'first_name': 'ED', 'last_name': 'CHASE', 'last_update': datetime.datetime(2006, 2, 15, 4, 34, 33)}, {'actor_id': 4, 'first_name': 'JENNIFER', 'last_name': 'DAVIS', 'last_update': datetime.datetime(2006, 2, 15, 4, 34, 33)}, {'actor_id': 5, 'first_name': 'JOHNNY', 'last_name': 'LOLLOBRIGIDA', 'last_update': datetime.datetime(2006, 2, 15, 4, 34, 33)}, {'actor_id': 6, 'first_name': 'BETTE', 'last_name': 'NICHOLSON', 'last_update': datetime.datetime(2006, 2, 15, 4, 34, 33)}, {'actor_id': 7, 'first_name': 'GRACE', 'last_name': 'MOSTEL', 'last_update': datetime.datetime(2006, 2, 15, 4, 34, 33)}, {'actor_id': 8, 'first_name': 'MATTHEW', 'last_name': 'JOHANSSON', 'last_update': datetime.datetime(2006, 2, 15, 4, 34, 33)}, {'actor_id': 9, 'first_name': 'JOE', 'last_name': 'SWANK', 'last_update': datetime.datetime(2006, 2, 15, 4, 34, 33)}, {'actor_id': 10, 'first_name': 'CHRISTIAN', 'last_name': 'GABLE', 'last_update': datetime.datetime(2006, 2, 15, 4, 34, 33)}, {'actor_id': 11, 'first_name': 'ZERO', 'last_name': 'CAGE', 'last_update': datetime.datetime(2006, 2, 15, 4, 34, 33)}, {'actor_id': 12, 'first_name': 'KARL', 'last_name': 'BERRY', 'last_update': datetime.datetime(2006, 2, 15, 4, 34, 33)}, {'actor_id': 13, 'first_name': 'UMA', 'last_name': 'WOOD', 'last_update': datetime.datetime(2006, 2, 15, 4, 34, 33)}, {'actor_id': 14, 'first_name': 'VIVIEN', 'last_name': 'BERGEN', 'last_update': datetime.datetime(2006, 2, 15, 4, 34, 33)}, {'actor_id': 15, 'first_name': 'CUBA', 'last_name': 'OLIVIER', 'last_update': datetime.datetime(2006, 2, 15, 4, 34, 33)}, {'actor_id': 16, 'first_name': 'FRED', 'last_name': 'COSTNER', 'last_update': datetime.datetime(2006, 2, 15, 4, 34, 33)}, {'actor_id': 17, 'first_name': 'HELEN', 'last_name': 'VOIGHT', 'last_update': datetime.datetime(2006, 2, 15, 4, 34, 33)}, {'actor_id': 18, 'first_name': 'DAN', 'last_name': 'TORN', 'last_update': datetime.datetime(2006, 2, 15, 4, 34, 33)}, {'actor_id': 19, 'first_name': 'BOB', 'last_name': 'FAWCETT', 'last_update': datetime.datetime(2006, 2, 15, 4, 34, 33)}, {'actor_id': 20, 'first_name': 'LUCILLE', 'last_name': 'TRACY', 'last_update': datetime.datetime(2006, 2, 15, 4, 34, 33)}, {'actor_id': 21, 'first_name': 'KIRSTEN', 'last_name': 'PALTROW', 'last_update': datetime.datetime(2006, 2, 15, 4, 34, 33)}, {'actor_id': 22, 'first_name': 'ELVIS', 'last_name': 'MARX', 'last_update': datetime.datetime(2006, 2, 15, 4, 34, 33)}, {'actor_id': 23, 'first_name': 'SANDRA', 'last_name': 'KILMER', 'last_update': datetime.datetime(2006, 2, 15, 4, 34, 33)}, {'actor_id': 24, 'first_name': 'CAMERON', 'last_name': 'STREEP', 'last_update': datetime.datetime(2006, 2, 15, 4, 34, 33)}, {'actor_id': 25, 'first_name': 'KEVIN', 'last_name': 'BLOOM', 'last_update': datetime.datetime(2006, 2, 15, 4, 34, 33)}, {'actor_id': 26, 'first_name': 'RIP', 'last_name': 'CRAWFORD', 'last_update': datetime.datetime(2006, 2, 15, 4, 34, 33)}, {'actor_id': 27, 'first_name': 'JULIA', 'last_name': 'MCQUEEN', 'last_update': datetime.datetime(2006, 2, 15, 4, 34, 33)}, {'actor_id': 28, 'first_name': 'WOODY', 'last_name': 'HOFFMAN', 'last_update': datetime.datetime(2006, 2, 15, 4, 34, 33)}, {'actor_id': 29, 'first_name': 'ALEC', 'last_name': 'WAYNE', 'last_update': datetime.datetime(2006, 2, 15, 4, 34, 33)}, {'actor_id': 30, 'first_name': 'SANDRA', 'last_name': 'PECK', 'last_update': datetime.datetime(2006, 2, 15, 4, 34, 33)}, {'actor_id': 31, 'first_name': 'SISSY', 'last_name': 'SOBIESKI', 'last_update': datetime.datetime(2006, 2, 15, 4, 34, 33)}, {'actor_id': 32, 'first_name': 'TIM', 'last_name': 'HACKMAN', 'last_update': datetime.datetime(2006, 2, 15, 4, 34, 33)}, {'actor_id': 33, 'first_name': 'MILLA', 'last_name': 'PECK', 'last_update': datetime.datetime(2006, 2, 15, 4, 34, 33)}, {'actor_id': 34, 'first_name': 'AUDREY', 'last_name': 'OLIVIER', 'last_update': datetime.datetime(2006, 2, 15, 4, 34, 33)}, {'actor_id': 35, 'first_name': 'JUDY', 'last_name': 'DEAN', 'last_update': datetime.datetime(2006, 2, 15, 4, 34, 33)}, {'actor_id': 36, 'first_name': 'BURT', 'last_name': 'DUKAKIS', 'last_update': datetime.datetime(2006, 2, 15, 4, 34, 33)}, {'actor_id': 37, 'first_name': 'VAL', 'last_name': 'BOLGER', 'last_update': datetime.datetime(2006, 2, 15, 4, 34, 33)}, {'actor_id': 38, 'first_name': 'TOM', 'last_name': 'MCKELLEN', 'last_update': datetime.datetime(2006, 2, 15, 4, 34, 33)}, {'actor_id': 39, 'first_name': 'GOLDIE', 'last_name': 'BRODY', 'last_update': datetime.datetime(2006, 2, 15, 4, 34, 33)}, {'actor_id': 40, 'first_name': 'JOHNNY', 'last_name': 'CAGE', 'last_update': datetime.datetime(2006, 2, 15, 4, 34, 33)}, {'actor_id': 41, 'first_name': 'JODIE', 'last_name': 'DEGENERES', 'last_update': datetime.datetime(2006, 2, 15, 4, 34, 33)}, {'actor_id': 42, 'first_name': 'TOM', 'last_name': 'MIRANDA', 'last_update': datetime.datetime(2006, 2, 15, 4, 34, 33)}, {'actor_id': 43, 'first_name': 'KIRK', 'last_name': 'JOVOVICH', 'last_update': datetime.datetime(2006, 2, 15, 4, 34, 33)}, {'actor_id': 44, 'first_name': 'NICK', 'last_name': 'STALLONE', 'last_update': datetime.datetime(2006, 2, 15, 4, 34, 33)}, {'actor_id': 45, 'first_name': 'REESE', 'last_name': 'KILMER', 'last_update': datetime.datetime(2006, 2, 15, 4, 34, 33)}, {'actor_id': 46, 'first_name': 'PARKER', 'last_name': 'GOLDBERG', 'last_update': datetime.datetime(2006, 2, 15, 4, 34, 33)}, {'actor_id': 47, 'first_name': 'JULIA', 'last_name': 'BARRYMORE', 'last_update': datetime.datetime(2006, 2, 15, 4, 34, 33)}, {'actor_id': 48, 'first_name': 'FRANCES', 'last_name': 'DAY-LEWIS', 'last_update': datetime.datetime(2006, 2, 15, 4, 34, 33)}, {'actor_id': 49, 'first_name': 'ANNE', 'last_name': 'CRONYN', 'last_update': datetime.datetime(2006, 2, 15, 4, 34, 33)}, {'actor_id': 50, 'first_name': 'NATALIE', 'last_name': 'HOPKINS', 'last_update': datetime.datetime(2006, 2, 15, 4, 34, 33)}, {'actor_id': 51, 'first_name': 'GARY', 'last_name': 'PHOENIX', 'last_update': datetime.datetime(2006, 2, 15, 4, 34, 33)}, {'actor_id': 52, 'first_name': 'CARMEN', 'last_name': 'HUNT', 'last_update': datetime.datetime(2006, 2, 15, 4, 34, 33)}, {'actor_id': 53, 'first_name': 'MENA', 'last_name': 'TEMPLE', 'last_update': datetime.datetime(2006, 2, 15, 4, 34, 33)}, {'actor_id': 54, 'first_name': 'PENELOPE', 'last_name': 'PINKETT', 'last_update': datetime.datetime(2006, 2, 15, 4, 34, 33)}, {'actor_id': 55, 'first_name': 'FAY', 'last_name': 'KILMER', 'last_update': datetime.datetime(2006, 2, 15, 4, 34, 33)}, {'actor_id': 56, 'first_name': 'DAN', 'last_name': 'HARRIS', 'last_update': datetime.datetime(2006, 2, 15, 4, 34, 33)}, {'actor_id': 57, 'first_name': 'JUDE', 'last_name': 'CRUISE', 'last_update': datetime.datetime(2006, 2, 15, 4, 34, 33)}, {'actor_id': 58, 'first_name': 'CHRISTIAN', 'last_name': 'AKROYD', 'last_update': datetime.datetime(2006, 2, 15, 4, 34, 33)}, {'actor_id': 59, 'first_name': 'DUSTIN', 'last_name': 'TAUTOU', 'last_update': datetime.datetime(2006, 2, 15, 4, 34, 33)}, {'actor_id': 60, 'first_name': 'HENRY', 'last_name': 'BERRY', 'last_update': datetime.datetime(2006, 2, 15, 4, 34, 33)}, {'actor_id': 61, 'first_name': 'CHRISTIAN', 'last_name': 'NEESON', 'last_update': datetime.datetime(2006, 2, 15, 4, 34, 33)}, {'actor_id': 62, 'first_name': 'JAYNE', 'last_name': 'NEESON', 'last_update': datetime.datetime(2006, 2, 15, 4, 34, 33)}, {'actor_id': 63, 'first_name': 'CAMERON', 'last_name': 'WRAY', 'last_update': datetime.datetime(2006, 2, 15, 4, 34, 33)}, {'actor_id': 64, 'first_name': 'RAY', 'last_name': 'JOHANSSON', 'last_update': datetime.datetime(2006, 2, 15, 4, 34, 33)}, {'actor_id': 65, 'first_name': 'ANGELA', 'last_name': 'HUDSON', 'last_update': datetime.datetime(2006, 2, 15, 4, 34, 33)}, {'actor_id': 66, 'first_name': 'MARY', 'last_name': 'TANDY', 'last_update': datetime.datetime(2006, 2, 15, 4, 34, 33)}, {'actor_id': 67, 'first_name': 'JESSICA', 'last_name': 'BAILEY', 'last_update': datetime.datetime(2006, 2, 15, 4, 34, 33)}, {'actor_id': 68, 'first_name': 'RIP', 'last_name': 'WINSLET', 'last_update': datetime.datetime(2006, 2, 15, 4, 34, 33)}, {'actor_id': 69, 'first_name': 'KENNETH', 'last_name': 'PALTROW', 'last_update': datetime.datetime(2006, 2, 15, 4, 34, 33)}, {'actor_id': 70, 'first_name': 'MICHELLE', 'last_name': 'MCCONAUGHEY', 'last_update': datetime.datetime(2006, 2, 15, 4, 34, 33)}, {'actor_id': 71, 'first_name': 'ADAM', 'last_name': 'GRANT', 'last_update': datetime.datetime(2006, 2, 15, 4, 34, 33)}, {'actor_id': 72, 'first_name': 'SEAN', 'last_name': 'WILLIAMS', 'last_update': datetime.datetime(2006, 2, 15, 4, 34, 33)}, {'actor_id': 73, 'first_name': 'GARY', 'last_name': 'PENN', 'last_update': datetime.datetime(2006, 2, 15, 4, 34, 33)}, {'actor_id': 74, 'first_name': 'MILLA', 'last_name': 'KEITEL', 'last_update': datetime.datetime(2006, 2, 15, 4, 34, 33)}, {'actor_id': 75, 'first_name': 'BURT', 'last_name': 'POSEY', 'last_update': datetime.datetime(2006, 2, 15, 4, 34, 33)}, {'actor_id': 76, 'first_name': 'ANGELINA', 'last_name': 'ASTAIRE', 'last_update': datetime.datetime(2006, 2, 15, 4, 34, 33)}, {'actor_id': 77, 'first_name': 'CARY', 'last_name': 'MCCONAUGHEY', 'last_update': datetime.datetime(2006, 2, 15, 4, 34, 33)}, {'actor_id': 78, 'first_name': 'GROUCHO', 'last_name': 'SINATRA', 'last_update': datetime.datetime(2006, 2, 15, 4, 34, 33)}, {'actor_id': 79, 'first_name': 'MAE', 'last_name': 'HOFFMAN', 'last_update': datetime.datetime(2006, 2, 15, 4, 34, 33)}, {'actor_id': 80, 'first_name': 'RALPH', 'last_name': 'CRUZ', 'last_update': datetime.datetime(2006, 2, 15, 4, 34, 33)}, {'actor_id': 81, 'first_name': 'SCARLETT', 'last_name': 'DAMON', 'last_update': datetime.datetime(2006, 2, 15, 4, 34, 33)}, {'actor_id': 82, 'first_name': 'WOODY', 'last_name': 'JOLIE', 'last_update': datetime.datetime(2006, 2, 15, 4, 34, 33)}, {'actor_id': 83, 'first_name': 'BEN', 'last_name': 'WILLIS', 'last_update': datetime.datetime(2006, 2, 15, 4, 34, 33)}, {'actor_id': 84, 'first_name': 'JAMES', 'last_name': 'PITT', 'last_update': datetime.datetime(2006, 2, 15, 4, 34, 33)}, {'actor_id': 85, 'first_name': 'MINNIE', 'last_name': 'ZELLWEGER', 'last_update': datetime.datetime(2006, 2, 15, 4, 34, 33)}, {'actor_id': 86, 'first_name': 'GREG', 'last_name': 'CHAPLIN', 'last_update': datetime.datetime(2006, 2, 15, 4, 34, 33)}, {'actor_id': 87, 'first_name': 'SPENCER', 'last_name': 'PECK', 'last_update': datetime.datetime(2006, 2, 15, 4, 34, 33)}, {'actor_id': 88, 'first_name': 'KENNETH', 'last_name': 'PESCI', 'last_update': datetime.datetime(2006, 2, 15, 4, 34, 33)}, {'actor_id': 89, 'first_name': 'CHARLIZE', 'last_name': 'DENCH', 'last_update': datetime.datetime(2006, 2, 15, 4, 34, 33)}, {'actor_id': 90, 'first_name': 'SEAN', 'last_name': 'GUINESS', 'last_update': datetime.datetime(2006, 2, 15, 4, 34, 33)}, {'actor_id': 91, 'first_name': 'CHRISTOPHER', 'last_name': 'BERRY', 'last_update': datetime.datetime(2006, 2, 15, 4, 34, 33)}, {'actor_id': 92, 'first_name': 'KIRSTEN', 'last_name': 'AKROYD', 'last_update': datetime.datetime(2006, 2, 15, 4, 34, 33)}, {'actor_id': 93, 'first_name': 'ELLEN', 'last_name': 'PRESLEY', 'last_update': datetime.datetime(2006, 2, 15, 4, 34, 33)}, {'actor_id': 94, 'first_name': 'KENNETH', 'last_name': 'TORN', 'last_update': datetime.datetime(2006, 2, 15, 4, 34, 33)}, {'actor_id': 95, 'first_name': 'DARYL', 'last_name': 'WAHLBERG', 'last_update': datetime.datetime(2006, 2, 15, 4, 34, 33)}, {'actor_id': 96, 'first_name': 'GENE', 'last_name': 'WILLIS', 'last_update': datetime.datetime(2006, 2, 15, 4, 34, 33)}, {'actor_id': 97, 'first_name': 'MEG', 'last_name': 'HAWKE', 'last_update': datetime.datetime(2006, 2, 15, 4, 34, 33)}, {'actor_id': 98, 'first_name': 'CHRIS', 'last_name': 'BRIDGES', 'last_update': datetime.datetime(2006, 2, 15, 4, 34, 33)}, {'actor_id': 99, 'first_name': 'JIM', 'last_name': 'MOSTEL', 'last_update': datetime.datetime(2006, 2, 15, 4, 34, 33)}, {'actor_id': 100, 'first_name': 'SPENCER', 'last_name': 'DEPP', 'last_update': datetime.datetime(2006, 2, 15, 4, 34, 33)}, {'actor_id': 101, 'first_name': 'SUSAN', 'last_name': 'DAVIS', 'last_update': datetime.datetime(2006, 2, 15, 4, 34, 33)}, {'actor_id': 102, 'first_name': 'WALTER', 'last_name': 'TORN', 'last_update': datetime.datetime(2006, 2, 15, 4, 34, 33)}, {'actor_id': 103, 'first_name': 'MATTHEW', 'last_name': 'LEIGH', 'last_update': datetime.datetime(2006, 2, 15, 4, 34, 33)}, {'actor_id': 104, 'first_name': 'PENELOPE', 'last_name': 'CRONYN', 'last_update': datetime.datetime(2006, 2, 15, 4, 34, 33)}, {'actor_id': 105, 'first_name': 'SIDNEY', 'last_name': 'CROWE', 'last_update': datetime.datetime(2006, 2, 15, 4, 34, 33)}, {'actor_id': 106, 'first_name': 'GROUCHO', 'last_name': 'DUNST', 'last_update': datetime.datetime(2006, 2, 15, 4, 34, 33)}, {'actor_id': 107, 'first_name': 'GINA', 'last_name': 'DEGENERES', 'last_update': datetime.datetime(2006, 2, 15, 4, 34, 33)}, {'actor_id': 108, 'first_name': 'WARREN', 'last_name': 'NOLTE', 'last_update': datetime.datetime(2006, 2, 15, 4, 34, 33)}, {'actor_id': 109, 'first_name': 'SYLVESTER', 'last_name': 'DERN', 'last_update': datetime.datetime(2006, 2, 15, 4, 34, 33)}, {'actor_id': 110, 'first_name': 'SUSAN', 'last_name': 'DAVIS', 'last_update': datetime.datetime(2006, 2, 15, 4, 34, 33)}, {'actor_id': 111, 'first_name': 'CAMERON', 'last_name': 'ZELLWEGER', 'last_update': datetime.datetime(2006, 2, 15, 4, 34, 33)}, {'actor_id': 112, 'first_name': 'RUSSELL', 'last_name': 'BACALL', 'last_update': datetime.datetime(2006, 2, 15, 4, 34, 33)}, {'actor_id': 113, 'first_name': 'MORGAN', 'last_name': 'HOPKINS', 'last_update': datetime.datetime(2006, 2, 15, 4, 34, 33)}, {'actor_id': 114, 'first_name': 'MORGAN', 'last_name': 'MCDORMAND', 'last_update': datetime.datetime(2006, 2, 15, 4, 34, 33)}, {'actor_id': 115, 'first_name': 'HARRISON', 'last_name': 'BALE', 'last_update': datetime.datetime(2006, 2, 15, 4, 34, 33)}, {'actor_id': 116, 'first_name': 'DAN', 'last_name': 'STREEP', 'last_update': datetime.datetime(2006, 2, 15, 4, 34, 33)}, {'actor_id': 117, 'first_name': 'RENEE', 'last_name': 'TRACY', 'last_update': datetime.datetime(2006, 2, 15, 4, 34, 33)}, {'actor_id': 118, 'first_name': 'CUBA', 'last_name': 'ALLEN', 'last_update': datetime.datetime(2006, 2, 15, 4, 34, 33)}, {'actor_id': 119, 'first_name': 'WARREN', 'last_name': 'JACKMAN', 'last_update': datetime.datetime(2006, 2, 15, 4, 34, 33)}, {'actor_id': 120, 'first_name': 'PENELOPE', 'last_name': 'MONROE', 'last_update': datetime.datetime(2006, 2, 15, 4, 34, 33)}, {'actor_id': 121, 'first_name': 'LIZA', 'last_name': 'BERGMAN', 'last_update': datetime.datetime(2006, 2, 15, 4, 34, 33)}, {'actor_id': 122, 'first_name': 'SALMA', 'last_name': 'NOLTE', 'last_update': datetime.datetime(2006, 2, 15, 4, 34, 33)}, {'actor_id': 123, 'first_name': 'JULIANNE', 'last_name': 'DENCH', 'last_update': datetime.datetime(2006, 2, 15, 4, 34, 33)}, {'actor_id': 124, 'first_name': 'SCARLETT', 'last_name': 'BENING', 'last_update': datetime.datetime(2006, 2, 15, 4, 34, 33)}, {'actor_id': 125, 'first_name': 'ALBERT', 'last_name': 'NOLTE', 'last_update': datetime.datetime(2006, 2, 15, 4, 34, 33)}, {'actor_id': 126, 'first_name': 'FRANCES', 'last_name': 'TOMEI', 'last_update': datetime.datetime(2006, 2, 15, 4, 34, 33)}, {'actor_id': 127, 'first_name': 'KEVIN', 'last_name': 'GARLAND', 'last_update': datetime.datetime(2006, 2, 15, 4, 34, 33)}, {'actor_id': 128, 'first_name': 'CATE', 'last_name': 'MCQUEEN', 'last_update': datetime.datetime(2006, 2, 15, 4, 34, 33)}, {'actor_id': 129, 'first_name': 'DARYL', 'last_name': 'CRAWFORD', 'last_update': datetime.datetime(2006, 2, 15, 4, 34, 33)}, {'actor_id': 130, 'first_name': 'GRETA', 'last_name': 'KEITEL', 'last_update': datetime.datetime(2006, 2, 15, 4, 34, 33)}, {'actor_id': 131, 'first_name': 'JANE', 'last_name': 'JACKMAN', 'last_update': datetime.datetime(2006, 2, 15, 4, 34, 33)}, {'actor_id': 132, 'first_name': 'ADAM', 'last_name': 'HOPPER', 'last_update': datetime.datetime(2006, 2, 15, 4, 34, 33)}, {'actor_id': 133, 'first_name': 'RICHARD', 'last_name': 'PENN', 'last_update': datetime.datetime(2006, 2, 15, 4, 34, 33)}, {'actor_id': 134, 'first_name': 'GENE', 'last_name': 'HOPKINS', 'last_update': datetime.datetime(2006, 2, 15, 4, 34, 33)}, {'actor_id': 135, 'first_name': 'RITA', 'last_name': 'REYNOLDS', 'last_update': datetime.datetime(2006, 2, 15, 4, 34, 33)}, {'actor_id': 136, 'first_name': 'ED', 'last_name': 'MANSFIELD', 'last_update': datetime.datetime(2006, 2, 15, 4, 34, 33)}, {'actor_id': 137, 'first_name': 'MORGAN', 'last_name': 'WILLIAMS', 'last_update': datetime.datetime(2006, 2, 15, 4, 34, 33)}, {'actor_id': 138, 'first_name': 'LUCILLE', 'last_name': 'DEE', 'last_update': datetime.datetime(2006, 2, 15, 4, 34, 33)}, {'actor_id': 139, 'first_name': 'EWAN', 'last_name': 'GOODING', 'last_update': datetime.datetime(2006, 2, 15, 4, 34, 33)}, {'actor_id': 140, 'first_name': 'WHOOPI', 'last_name': 'HURT', 'last_update': datetime.datetime(2006, 2, 15, 4, 34, 33)}, {'actor_id': 141, 'first_name': 'CATE', 'last_name': 'HARRIS', 'last_update': datetime.datetime(2006, 2, 15, 4, 34, 33)}, {'actor_id': 142, 'first_name': 'JADA', 'last_name': 'RYDER', 'last_update': datetime.datetime(2006, 2, 15, 4, 34, 33)}, {'actor_id': 143, 'first_name': 'RIVER', 'last_name': 'DEAN', 'last_update': datetime.datetime(2006, 2, 15, 4, 34, 33)}, {'actor_id': 144, 'first_name': 'ANGELA', 'last_name': 'WITHERSPOON', 'last_update': datetime.datetime(2006, 2, 15, 4, 34, 33)}, {'actor_id': 145, 'first_name': 'KIM', 'last_name': 'ALLEN', 'last_update': datetime.datetime(2006, 2, 15, 4, 34, 33)}, {'actor_id': 146, 'first_name': 'ALBERT', 'last_name': 'JOHANSSON', 'last_update': datetime.datetime(2006, 2, 15, 4, 34, 33)}, {'actor_id': 147, 'first_name': 'FAY', 'last_name': 'WINSLET', 'last_update': datetime.datetime(2006, 2, 15, 4, 34, 33)}, {'actor_id': 148, 'first_name': 'EMILY', 'last_name': 'DEE', 'last_update': datetime.datetime(2006, 2, 15, 4, 34, 33)}, {'actor_id': 149, 'first_name': 'RUSSELL', 'last_name': 'TEMPLE', 'last_update': datetime.datetime(2006, 2, 15, 4, 34, 33)}, {'actor_id': 150, 'first_name': 'JAYNE', 'last_name': 'NOLTE', 'last_update': datetime.datetime(2006, 2, 15, 4, 34, 33)}, {'actor_id': 151, 'first_name': 'GEOFFREY', 'last_name': 'HESTON', 'last_update': datetime.datetime(2006, 2, 15, 4, 34, 33)}, {'actor_id': 152, 'first_name': 'BEN', 'last_name': 'HARRIS', 'last_update': datetime.datetime(2006, 2, 15, 4, 34, 33)}, {'actor_id': 153, 'first_name': 'MINNIE', 'last_name': 'KILMER', 'last_update': datetime.datetime(2006, 2, 15, 4, 34, 33)}, {'actor_id': 154, 'first_name': 'MERYL', 'last_name': 'GIBSON', 'last_update': datetime.datetime(2006, 2, 15, 4, 34, 33)}, {'actor_id': 155, 'first_name': 'IAN', 'last_name': 'TANDY', 'last_update': datetime.datetime(2006, 2, 15, 4, 34, 33)}, {'actor_id': 156, 'first_name': 'FAY', 'last_name': 'WOOD', 'last_update': datetime.datetime(2006, 2, 15, 4, 34, 33)}, {'actor_id': 157, 'first_name': 'GRETA', 'last_name': 'MALDEN', 'last_update': datetime.datetime(2006, 2, 15, 4, 34, 33)}, {'actor_id': 158, 'first_name': 'VIVIEN', 'last_name': 'BASINGER', 'last_update': datetime.datetime(2006, 2, 15, 4, 34, 33)}, {'actor_id': 159, 'first_name': 'LAURA', 'last_name': 'BRODY', 'last_update': datetime.datetime(2006, 2, 15, 4, 34, 33)}, {'actor_id': 160, 'first_name': 'CHRIS', 'last_name': 'DEPP', 'last_update': datetime.datetime(2006, 2, 15, 4, 34, 33)}, {'actor_id': 161, 'first_name': 'HARVEY', 'last_name': 'HOPE', 'last_update': datetime.datetime(2006, 2, 15, 4, 34, 33)}, {'actor_id': 162, 'first_name': 'OPRAH', 'last_name': 'KILMER', 'last_update': datetime.datetime(2006, 2, 15, 4, 34, 33)}, {'actor_id': 163, 'first_name': 'CHRISTOPHER', 'last_name': 'WEST', 'last_update': datetime.datetime(2006, 2, 15, 4, 34, 33)}, {'actor_id': 164, 'first_name': 'HUMPHREY', 'last_name': 'WILLIS', 'last_update': datetime.datetime(2006, 2, 15, 4, 34, 33)}, {'actor_id': 165, 'first_name': 'AL', 'last_name': 'GARLAND', 'last_update': datetime.datetime(2006, 2, 15, 4, 34, 33)}, {'actor_id': 166, 'first_name': 'NICK', 'last_name': 'DEGENERES', 'last_update': datetime.datetime(2006, 2, 15, 4, 34, 33)}, {'actor_id': 167, 'first_name': 'LAURENCE', 'last_name': 'BULLOCK', 'last_update': datetime.datetime(2006, 2, 15, 4, 34, 33)}, {'actor_id': 168, 'first_name': 'WILL', 'last_name': 'WILSON', 'last_update': datetime.datetime(2006, 2, 15, 4, 34, 33)}, {'actor_id': 169, 'first_name': 'KENNETH', 'last_name': 'HOFFMAN', 'last_update': datetime.datetime(2006, 2, 15, 4, 34, 33)}, {'actor_id': 170, 'first_name': 'MENA', 'last_name': 'HOPPER', 'last_update': datetime.datetime(2006, 2, 15, 4, 34, 33)}, {'actor_id': 171, 'first_name': 'OLYMPIA', 'last_name': 'PFEIFFER', 'last_update': datetime.datetime(2006, 2, 15, 4, 34, 33)}, {'actor_id': 172, 'first_name': 'GROUCHO', 'last_name': 'WILLIAMS', 'last_update': datetime.datetime(2006, 2, 15, 4, 34, 33)}, {'actor_id': 173, 'first_name': 'ALAN', 'last_name': 'DREYFUSS', 'last_update': datetime.datetime(2006, 2, 15, 4, 34, 33)}, {'actor_id': 174, 'first_name': 'MICHAEL', 'last_name': 'BENING', 'last_update': datetime.datetime(2006, 2, 15, 4, 34, 33)}, {'actor_id': 175, 'first_name': 'WILLIAM', 'last_name': 'HACKMAN', 'last_update': datetime.datetime(2006, 2, 15, 4, 34, 33)}, {'actor_id': 176, 'first_name': 'JON', 'last_name': 'CHASE', 'last_update': datetime.datetime(2006, 2, 15, 4, 34, 33)}, {'actor_id': 177, 'first_name': 'GENE', 'last_name': 'MCKELLEN', 'last_update': datetime.datetime(2006, 2, 15, 4, 34, 33)}, {'actor_id': 178, 'first_name': 'LISA', 'last_name': 'MONROE', 'last_update': datetime.datetime(2006, 2, 15, 4, 34, 33)}, {'actor_id': 179, 'first_name': 'ED', 'last_name': 'GUINESS', 'last_update': datetime.datetime(2006, 2, 15, 4, 34, 33)}, {'actor_id': 180, 'first_name': 'JEFF', 'last_name': 'SILVERSTONE', 'last_update': datetime.datetime(2006, 2, 15, 4, 34, 33)}, {'actor_id': 181, 'first_name': 'MATTHEW', 'last_name': 'CARREY', 'last_update': datetime.datetime(2006, 2, 15, 4, 34, 33)}, {'actor_id': 182, 'first_name': 'DEBBIE', 'last_name': 'AKROYD', 'last_update': datetime.datetime(2006, 2, 15, 4, 34, 33)}, {'actor_id': 183, 'first_name': 'RUSSELL', 'last_name': 'CLOSE', 'last_update': datetime.datetime(2006, 2, 15, 4, 34, 33)}, {'actor_id': 184, 'first_name': 'HUMPHREY', 'last_name': 'GARLAND', 'last_update': datetime.datetime(2006, 2, 15, 4, 34, 33)}, {'actor_id': 185, 'first_name': 'MICHAEL', 'last_name': 'BOLGER', 'last_update': datetime.datetime(2006, 2, 15, 4, 34, 33)}, {'actor_id': 186, 'first_name': 'JULIA', 'last_name': 'ZELLWEGER', 'last_update': datetime.datetime(2006, 2, 15, 4, 34, 33)}, {'actor_id': 187, 'first_name': 'RENEE', 'last_name': 'BALL', 'last_update': datetime.datetime(2006, 2, 15, 4, 34, 33)}, {'actor_id': 188, 'first_name': 'ROCK', 'last_name': 'DUKAKIS', 'last_update': datetime.datetime(2006, 2, 15, 4, 34, 33)}, {'actor_id': 189, 'first_name': 'CUBA', 'last_name': 'BIRCH', 'last_update': datetime.datetime(2006, 2, 15, 4, 34, 33)}, {'actor_id': 190, 'first_name': 'AUDREY', 'last_name': 'BAILEY', 'last_update': datetime.datetime(2006, 2, 15, 4, 34, 33)}, {'actor_id': 191, 'first_name': 'GREGORY', 'last_name': 'GOODING', 'last_update': datetime.datetime(2006, 2, 15, 4, 34, 33)}, {'actor_id': 192, 'first_name': 'JOHN', 'last_name': 'SUVARI', 'last_update': datetime.datetime(2006, 2, 15, 4, 34, 33)}, {'actor_id': 193, 'first_name': 'BURT', 'last_name': 'TEMPLE', 'last_update': datetime.datetime(2006, 2, 15, 4, 34, 33)}, {'actor_id': 194, 'first_name': 'MERYL', 'last_name': 'ALLEN', 'last_update': datetime.datetime(2006, 2, 15, 4, 34, 33)}, {'actor_id': 195, 'first_name': 'JAYNE', 'last_name': 'SILVERSTONE', 'last_update': datetime.datetime(2006, 2, 15, 4, 34, 33)}, {'actor_id': 196, 'first_name': 'BELA', 'last_name': 'WALKEN', 'last_update': datetime.datetime(2006, 2, 15, 4, 34, 33)}, {'actor_id': 197, 'first_name': 'REESE', 'last_name': 'WEST', 'last_update': datetime.datetime(2006, 2, 15, 4, 34, 33)}, {'actor_id': 198, 'first_name': 'MARY', 'last_name': 'KEITEL', 'last_update': datetime.datetime(2006, 2, 15, 4, 34, 33)}, {'actor_id': 199, 'first_name': 'JULIA', 'last_name': 'FAWCETT', 'last_update': datetime.datetime(2006, 2, 15, 4, 34, 33)}, {'actor_id': 200, 'first_name': 'THORA', 'last_name': 'TEMPLE', 'last_update': datetime.datetime(2006, 2, 15, 4, 34, 33)}]\n"
     ]
    }
   ],
   "source": [
    "print(resultado)"
   ]
  },
  {
   "cell_type": "code",
   "execution_count": 20,
   "id": "mature-hospital",
   "metadata": {},
   "outputs": [
    {
     "data": {
      "text/plain": [
       "200"
      ]
     },
     "execution_count": 20,
     "metadata": {},
     "output_type": "execute_result"
    }
   ],
   "source": [
    "len(resultado)"
   ]
  },
  {
   "cell_type": "markdown",
   "id": "fresh-scheduling",
   "metadata": {},
   "source": [
    "### Crear un dataframe de acuerdo a los valores consultados"
   ]
  },
  {
   "cell_type": "code",
   "execution_count": 75,
   "id": "national-paraguay",
   "metadata": {},
   "outputs": [],
   "source": [
    "df=pd.DataFrame(columns=['actor_id', 'first_name', 'last_name', 'last_update'])"
   ]
  },
  {
   "cell_type": "code",
   "execution_count": 76,
   "id": "technical-seeker",
   "metadata": {},
   "outputs": [
    {
     "data": {
      "text/html": [
       "<div>\n",
       "<style scoped>\n",
       "    .dataframe tbody tr th:only-of-type {\n",
       "        vertical-align: middle;\n",
       "    }\n",
       "\n",
       "    .dataframe tbody tr th {\n",
       "        vertical-align: top;\n",
       "    }\n",
       "\n",
       "    .dataframe thead th {\n",
       "        text-align: right;\n",
       "    }\n",
       "</style>\n",
       "<table border=\"1\" class=\"dataframe\">\n",
       "  <thead>\n",
       "    <tr style=\"text-align: right;\">\n",
       "      <th></th>\n",
       "      <th>actor_id</th>\n",
       "      <th>first_name</th>\n",
       "      <th>last_name</th>\n",
       "      <th>last_update</th>\n",
       "    </tr>\n",
       "  </thead>\n",
       "  <tbody>\n",
       "  </tbody>\n",
       "</table>\n",
       "</div>"
      ],
      "text/plain": [
       "Empty DataFrame\n",
       "Columns: [actor_id, first_name, last_name, last_update]\n",
       "Index: []"
      ]
     },
     "execution_count": 76,
     "metadata": {},
     "output_type": "execute_result"
    }
   ],
   "source": [
    "df"
   ]
  },
  {
   "cell_type": "markdown",
   "id": "broke-brief",
   "metadata": {},
   "source": [
    "#### Iterar sobre los valores del resultado e ir llenando las filas del dataframe con cada una de los valores"
   ]
  },
  {
   "cell_type": "code",
   "execution_count": 78,
   "id": "typical-rally",
   "metadata": {},
   "outputs": [
    {
     "data": {
      "text/html": [
       "<div>\n",
       "<style scoped>\n",
       "    .dataframe tbody tr th:only-of-type {\n",
       "        vertical-align: middle;\n",
       "    }\n",
       "\n",
       "    .dataframe tbody tr th {\n",
       "        vertical-align: top;\n",
       "    }\n",
       "\n",
       "    .dataframe thead th {\n",
       "        text-align: right;\n",
       "    }\n",
       "</style>\n",
       "<table border=\"1\" class=\"dataframe\">\n",
       "  <thead>\n",
       "    <tr style=\"text-align: right;\">\n",
       "      <th></th>\n",
       "      <th>actor_id</th>\n",
       "      <th>first_name</th>\n",
       "      <th>last_name</th>\n",
       "      <th>last_update</th>\n",
       "    </tr>\n",
       "  </thead>\n",
       "  <tbody>\n",
       "    <tr>\n",
       "      <th>0</th>\n",
       "      <td>1</td>\n",
       "      <td>PENELOPE</td>\n",
       "      <td>GUINESS</td>\n",
       "      <td>2006-02-15 04:34:33</td>\n",
       "    </tr>\n",
       "    <tr>\n",
       "      <th>1</th>\n",
       "      <td>2</td>\n",
       "      <td>NICK</td>\n",
       "      <td>WAHLBERG</td>\n",
       "      <td>2006-02-15 04:34:33</td>\n",
       "    </tr>\n",
       "    <tr>\n",
       "      <th>2</th>\n",
       "      <td>3</td>\n",
       "      <td>ED</td>\n",
       "      <td>CHASE</td>\n",
       "      <td>2006-02-15 04:34:33</td>\n",
       "    </tr>\n",
       "    <tr>\n",
       "      <th>3</th>\n",
       "      <td>4</td>\n",
       "      <td>JENNIFER</td>\n",
       "      <td>DAVIS</td>\n",
       "      <td>2006-02-15 04:34:33</td>\n",
       "    </tr>\n",
       "    <tr>\n",
       "      <th>4</th>\n",
       "      <td>5</td>\n",
       "      <td>JOHNNY</td>\n",
       "      <td>LOLLOBRIGIDA</td>\n",
       "      <td>2006-02-15 04:34:33</td>\n",
       "    </tr>\n",
       "    <tr>\n",
       "      <th>...</th>\n",
       "      <td>...</td>\n",
       "      <td>...</td>\n",
       "      <td>...</td>\n",
       "      <td>...</td>\n",
       "    </tr>\n",
       "    <tr>\n",
       "      <th>195</th>\n",
       "      <td>196</td>\n",
       "      <td>BELA</td>\n",
       "      <td>WALKEN</td>\n",
       "      <td>2006-02-15 04:34:33</td>\n",
       "    </tr>\n",
       "    <tr>\n",
       "      <th>196</th>\n",
       "      <td>197</td>\n",
       "      <td>REESE</td>\n",
       "      <td>WEST</td>\n",
       "      <td>2006-02-15 04:34:33</td>\n",
       "    </tr>\n",
       "    <tr>\n",
       "      <th>197</th>\n",
       "      <td>198</td>\n",
       "      <td>MARY</td>\n",
       "      <td>KEITEL</td>\n",
       "      <td>2006-02-15 04:34:33</td>\n",
       "    </tr>\n",
       "    <tr>\n",
       "      <th>198</th>\n",
       "      <td>199</td>\n",
       "      <td>JULIA</td>\n",
       "      <td>FAWCETT</td>\n",
       "      <td>2006-02-15 04:34:33</td>\n",
       "    </tr>\n",
       "    <tr>\n",
       "      <th>199</th>\n",
       "      <td>200</td>\n",
       "      <td>THORA</td>\n",
       "      <td>TEMPLE</td>\n",
       "      <td>2006-02-15 04:34:33</td>\n",
       "    </tr>\n",
       "  </tbody>\n",
       "</table>\n",
       "<p>200 rows × 4 columns</p>\n",
       "</div>"
      ],
      "text/plain": [
       "    actor_id first_name     last_name         last_update\n",
       "0          1   PENELOPE       GUINESS 2006-02-15 04:34:33\n",
       "1          2       NICK      WAHLBERG 2006-02-15 04:34:33\n",
       "2          3         ED         CHASE 2006-02-15 04:34:33\n",
       "3          4   JENNIFER         DAVIS 2006-02-15 04:34:33\n",
       "4          5     JOHNNY  LOLLOBRIGIDA 2006-02-15 04:34:33\n",
       "..       ...        ...           ...                 ...\n",
       "195      196       BELA        WALKEN 2006-02-15 04:34:33\n",
       "196      197      REESE          WEST 2006-02-15 04:34:33\n",
       "197      198       MARY        KEITEL 2006-02-15 04:34:33\n",
       "198      199      JULIA       FAWCETT 2006-02-15 04:34:33\n",
       "199      200      THORA        TEMPLE 2006-02-15 04:34:33\n",
       "\n",
       "[200 rows x 4 columns]"
      ]
     },
     "execution_count": 78,
     "metadata": {},
     "output_type": "execute_result"
    }
   ],
   "source": [
    "for row in resultado:\n",
    "    df=df.append(row, ignore_index=True)\n",
    "df    "
   ]
  }
 ],
 "metadata": {
  "kernelspec": {
   "display_name": "Python 3",
   "language": "python",
   "name": "python3"
  },
  "language_info": {
   "codemirror_mode": {
    "name": "ipython",
    "version": 3
   },
   "file_extension": ".py",
   "mimetype": "text/x-python",
   "name": "python",
   "nbconvert_exporter": "python",
   "pygments_lexer": "ipython3",
   "version": "3.8.5"
  }
 },
 "nbformat": 4,
 "nbformat_minor": 5
}
